{
 "cells": [
  {
   "cell_type": "code",
   "execution_count": 1,
   "id": "76f2bf13",
   "metadata": {},
   "outputs": [],
   "source": [
    "import numpy as np\n",
    "import pandas as pd\n",
    "import matplotlib.pyplot as plt\n",
    "import seaborn as sns\n",
    "import sklearn\n",
    "import pickle"
   ]
  },
  {
   "cell_type": "code",
   "execution_count": 2,
   "id": "6d4e1390",
   "metadata": {},
   "outputs": [],
   "source": [
    "placement = pd.read_csv(r'A:\\Book1.csv')\n"
   ]
  },
  {
   "cell_type": "code",
   "execution_count": 3,
   "id": "becce2ac",
   "metadata": {},
   "outputs": [
    {
     "data": {
      "text/html": [
       "<div>\n",
       "<style scoped>\n",
       "    .dataframe tbody tr th:only-of-type {\n",
       "        vertical-align: middle;\n",
       "    }\n",
       "\n",
       "    .dataframe tbody tr th {\n",
       "        vertical-align: top;\n",
       "    }\n",
       "\n",
       "    .dataframe thead th {\n",
       "        text-align: right;\n",
       "    }\n",
       "</style>\n",
       "<table border=\"1\" class=\"dataframe\">\n",
       "  <thead>\n",
       "    <tr style=\"text-align: right;\">\n",
       "      <th></th>\n",
       "      <th>NAME</th>\n",
       "      <th>TENTH</th>\n",
       "      <th>TWELTH</th>\n",
       "      <th>CGPA</th>\n",
       "      <th>PLACED</th>\n",
       "      <th>PCOUNT</th>\n",
       "      <th>AMCAT</th>\n",
       "    </tr>\n",
       "  </thead>\n",
       "  <tbody>\n",
       "    <tr>\n",
       "      <th>0</th>\n",
       "      <td>RAVI THEJA</td>\n",
       "      <td>95</td>\n",
       "      <td>55.0</td>\n",
       "      <td>7.60</td>\n",
       "      <td>NO</td>\n",
       "      <td>0</td>\n",
       "      <td>67</td>\n",
       "    </tr>\n",
       "    <tr>\n",
       "      <th>1</th>\n",
       "      <td>NITISH THELANAKULA</td>\n",
       "      <td>98</td>\n",
       "      <td>93.2</td>\n",
       "      <td>8.50</td>\n",
       "      <td>YES</td>\n",
       "      <td>1</td>\n",
       "      <td>76</td>\n",
       "    </tr>\n",
       "    <tr>\n",
       "      <th>2</th>\n",
       "      <td>NIRUPAM</td>\n",
       "      <td>87</td>\n",
       "      <td>81.0</td>\n",
       "      <td>9.01</td>\n",
       "      <td>YES</td>\n",
       "      <td>2</td>\n",
       "      <td>85</td>\n",
       "    </tr>\n",
       "    <tr>\n",
       "      <th>3</th>\n",
       "      <td>THAMITHURAI</td>\n",
       "      <td>55</td>\n",
       "      <td>78.0</td>\n",
       "      <td>6.70</td>\n",
       "      <td>NO</td>\n",
       "      <td>0</td>\n",
       "      <td>72</td>\n",
       "    </tr>\n",
       "    <tr>\n",
       "      <th>4</th>\n",
       "      <td>SAIVIGNESH</td>\n",
       "      <td>99</td>\n",
       "      <td>94.0</td>\n",
       "      <td>8.30</td>\n",
       "      <td>YES</td>\n",
       "      <td>2</td>\n",
       "      <td>69</td>\n",
       "    </tr>\n",
       "  </tbody>\n",
       "</table>\n",
       "</div>"
      ],
      "text/plain": [
       "                 NAME  TENTH  TWELTH  CGPA PLACED  PCOUNT  AMCAT\n",
       "0          RAVI THEJA     95    55.0  7.60     NO       0     67\n",
       "1  NITISH THELANAKULA     98    93.2  8.50    YES       1     76\n",
       "2             NIRUPAM     87    81.0  9.01    YES       2     85\n",
       "3         THAMITHURAI     55    78.0  6.70     NO       0     72\n",
       "4          SAIVIGNESH     99    94.0  8.30    YES       2     69"
      ]
     },
     "execution_count": 3,
     "metadata": {},
     "output_type": "execute_result"
    }
   ],
   "source": [
    "placement.head()"
   ]
  },
  {
   "cell_type": "code",
   "execution_count": 4,
   "id": "0ee46044",
   "metadata": {},
   "outputs": [],
   "source": [
    "placement_copy = placement.copy()"
   ]
  },
  {
   "cell_type": "code",
   "execution_count": 5,
   "id": "b1eb72a2",
   "metadata": {},
   "outputs": [
    {
     "data": {
      "text/html": [
       "<div>\n",
       "<style scoped>\n",
       "    .dataframe tbody tr th:only-of-type {\n",
       "        vertical-align: middle;\n",
       "    }\n",
       "\n",
       "    .dataframe tbody tr th {\n",
       "        vertical-align: top;\n",
       "    }\n",
       "\n",
       "    .dataframe thead th {\n",
       "        text-align: right;\n",
       "    }\n",
       "</style>\n",
       "<table border=\"1\" class=\"dataframe\">\n",
       "  <thead>\n",
       "    <tr style=\"text-align: right;\">\n",
       "      <th></th>\n",
       "      <th>NAME</th>\n",
       "      <th>TENTH</th>\n",
       "      <th>TWELTH</th>\n",
       "      <th>CGPA</th>\n",
       "      <th>PLACED</th>\n",
       "      <th>PCOUNT</th>\n",
       "      <th>AMCAT</th>\n",
       "    </tr>\n",
       "  </thead>\n",
       "  <tbody>\n",
       "    <tr>\n",
       "      <th>0</th>\n",
       "      <td>RAVI THEJA</td>\n",
       "      <td>95</td>\n",
       "      <td>55.0</td>\n",
       "      <td>7.60</td>\n",
       "      <td>0</td>\n",
       "      <td>0</td>\n",
       "      <td>67</td>\n",
       "    </tr>\n",
       "    <tr>\n",
       "      <th>1</th>\n",
       "      <td>NITISH THELANAKULA</td>\n",
       "      <td>98</td>\n",
       "      <td>93.2</td>\n",
       "      <td>8.50</td>\n",
       "      <td>1</td>\n",
       "      <td>1</td>\n",
       "      <td>76</td>\n",
       "    </tr>\n",
       "    <tr>\n",
       "      <th>2</th>\n",
       "      <td>NIRUPAM</td>\n",
       "      <td>87</td>\n",
       "      <td>81.0</td>\n",
       "      <td>9.01</td>\n",
       "      <td>1</td>\n",
       "      <td>2</td>\n",
       "      <td>85</td>\n",
       "    </tr>\n",
       "    <tr>\n",
       "      <th>3</th>\n",
       "      <td>THAMITHURAI</td>\n",
       "      <td>55</td>\n",
       "      <td>78.0</td>\n",
       "      <td>6.70</td>\n",
       "      <td>0</td>\n",
       "      <td>0</td>\n",
       "      <td>72</td>\n",
       "    </tr>\n",
       "    <tr>\n",
       "      <th>4</th>\n",
       "      <td>SAIVIGNESH</td>\n",
       "      <td>99</td>\n",
       "      <td>94.0</td>\n",
       "      <td>8.30</td>\n",
       "      <td>1</td>\n",
       "      <td>2</td>\n",
       "      <td>69</td>\n",
       "    </tr>\n",
       "    <tr>\n",
       "      <th>5</th>\n",
       "      <td>SIDDARTH</td>\n",
       "      <td>60</td>\n",
       "      <td>57.0</td>\n",
       "      <td>7.80</td>\n",
       "      <td>0</td>\n",
       "      <td>0</td>\n",
       "      <td>55</td>\n",
       "    </tr>\n",
       "    <tr>\n",
       "      <th>6</th>\n",
       "      <td>KALAI</td>\n",
       "      <td>77</td>\n",
       "      <td>75.0</td>\n",
       "      <td>7.50</td>\n",
       "      <td>1</td>\n",
       "      <td>1</td>\n",
       "      <td>69</td>\n",
       "    </tr>\n",
       "    <tr>\n",
       "      <th>7</th>\n",
       "      <td>SELVAPRIYA</td>\n",
       "      <td>86</td>\n",
       "      <td>56.0</td>\n",
       "      <td>8.60</td>\n",
       "      <td>0</td>\n",
       "      <td>0</td>\n",
       "      <td>71</td>\n",
       "    </tr>\n",
       "    <tr>\n",
       "      <th>8</th>\n",
       "      <td>SARASWATHI</td>\n",
       "      <td>90</td>\n",
       "      <td>83.0</td>\n",
       "      <td>8.30</td>\n",
       "      <td>1</td>\n",
       "      <td>2</td>\n",
       "      <td>75</td>\n",
       "    </tr>\n",
       "    <tr>\n",
       "      <th>9</th>\n",
       "      <td>SONALIKA</td>\n",
       "      <td>78</td>\n",
       "      <td>67.0</td>\n",
       "      <td>5.80</td>\n",
       "      <td>0</td>\n",
       "      <td>0</td>\n",
       "      <td>54</td>\n",
       "    </tr>\n",
       "  </tbody>\n",
       "</table>\n",
       "</div>"
      ],
      "text/plain": [
       "                 NAME  TENTH  TWELTH  CGPA  PLACED  PCOUNT  AMCAT\n",
       "0          RAVI THEJA     95    55.0  7.60       0       0     67\n",
       "1  NITISH THELANAKULA     98    93.2  8.50       1       1     76\n",
       "2             NIRUPAM     87    81.0  9.01       1       2     85\n",
       "3         THAMITHURAI     55    78.0  6.70       0       0     72\n",
       "4          SAIVIGNESH     99    94.0  8.30       1       2     69\n",
       "5            SIDDARTH     60    57.0  7.80       0       0     55\n",
       "6               KALAI     77    75.0  7.50       1       1     69\n",
       "7          SELVAPRIYA     86    56.0  8.60       0       0     71\n",
       "8          SARASWATHI     90    83.0  8.30       1       2     75\n",
       "9            SONALIKA     78    67.0  5.80       0       0     54"
      ]
     },
     "execution_count": 5,
     "metadata": {},
     "output_type": "execute_result"
    }
   ],
   "source": [
    "from sklearn.preprocessing import LabelEncoder\n",
    "\n",
    "object_cols = ['PLACED']\n",
    "\n",
    "label_encoder = LabelEncoder()\n",
    "\n",
    "for col in object_cols:\n",
    "    placement_copy[col] = label_encoder.fit_transform(placement_copy[col])\n",
    "    \n",
    "placement_copy.head(10)"
   ]
  },
  {
   "cell_type": "code",
   "execution_count": 6,
   "id": "f4c613b7",
   "metadata": {},
   "outputs": [],
   "source": [
    "placement_copy.to_csv('new_placement2.csv')"
   ]
  },
  {
   "cell_type": "code",
   "execution_count": 7,
   "id": "4de10b57",
   "metadata": {},
   "outputs": [],
   "source": [
    "placement_copy.drop(['NAME'], axis = 1, inplace = True)"
   ]
  },
  {
   "cell_type": "code",
   "execution_count": 8,
   "id": "2e2db10e",
   "metadata": {},
   "outputs": [
    {
     "data": {
      "text/html": [
       "<div>\n",
       "<style scoped>\n",
       "    .dataframe tbody tr th:only-of-type {\n",
       "        vertical-align: middle;\n",
       "    }\n",
       "\n",
       "    .dataframe tbody tr th {\n",
       "        vertical-align: top;\n",
       "    }\n",
       "\n",
       "    .dataframe thead th {\n",
       "        text-align: right;\n",
       "    }\n",
       "</style>\n",
       "<table border=\"1\" class=\"dataframe\">\n",
       "  <thead>\n",
       "    <tr style=\"text-align: right;\">\n",
       "      <th></th>\n",
       "      <th>TENTH</th>\n",
       "      <th>TWELTH</th>\n",
       "      <th>CGPA</th>\n",
       "      <th>PLACED</th>\n",
       "      <th>PCOUNT</th>\n",
       "      <th>AMCAT</th>\n",
       "    </tr>\n",
       "  </thead>\n",
       "  <tbody>\n",
       "    <tr>\n",
       "      <th>0</th>\n",
       "      <td>95</td>\n",
       "      <td>55.0</td>\n",
       "      <td>7.60</td>\n",
       "      <td>0</td>\n",
       "      <td>0</td>\n",
       "      <td>67</td>\n",
       "    </tr>\n",
       "    <tr>\n",
       "      <th>1</th>\n",
       "      <td>98</td>\n",
       "      <td>93.2</td>\n",
       "      <td>8.50</td>\n",
       "      <td>1</td>\n",
       "      <td>1</td>\n",
       "      <td>76</td>\n",
       "    </tr>\n",
       "    <tr>\n",
       "      <th>2</th>\n",
       "      <td>87</td>\n",
       "      <td>81.0</td>\n",
       "      <td>9.01</td>\n",
       "      <td>1</td>\n",
       "      <td>2</td>\n",
       "      <td>85</td>\n",
       "    </tr>\n",
       "    <tr>\n",
       "      <th>3</th>\n",
       "      <td>55</td>\n",
       "      <td>78.0</td>\n",
       "      <td>6.70</td>\n",
       "      <td>0</td>\n",
       "      <td>0</td>\n",
       "      <td>72</td>\n",
       "    </tr>\n",
       "    <tr>\n",
       "      <th>4</th>\n",
       "      <td>99</td>\n",
       "      <td>94.0</td>\n",
       "      <td>8.30</td>\n",
       "      <td>1</td>\n",
       "      <td>2</td>\n",
       "      <td>69</td>\n",
       "    </tr>\n",
       "    <tr>\n",
       "      <th>5</th>\n",
       "      <td>60</td>\n",
       "      <td>57.0</td>\n",
       "      <td>7.80</td>\n",
       "      <td>0</td>\n",
       "      <td>0</td>\n",
       "      <td>55</td>\n",
       "    </tr>\n",
       "    <tr>\n",
       "      <th>6</th>\n",
       "      <td>77</td>\n",
       "      <td>75.0</td>\n",
       "      <td>7.50</td>\n",
       "      <td>1</td>\n",
       "      <td>1</td>\n",
       "      <td>69</td>\n",
       "    </tr>\n",
       "    <tr>\n",
       "      <th>7</th>\n",
       "      <td>86</td>\n",
       "      <td>56.0</td>\n",
       "      <td>8.60</td>\n",
       "      <td>0</td>\n",
       "      <td>0</td>\n",
       "      <td>71</td>\n",
       "    </tr>\n",
       "    <tr>\n",
       "      <th>8</th>\n",
       "      <td>90</td>\n",
       "      <td>83.0</td>\n",
       "      <td>8.30</td>\n",
       "      <td>1</td>\n",
       "      <td>2</td>\n",
       "      <td>75</td>\n",
       "    </tr>\n",
       "    <tr>\n",
       "      <th>9</th>\n",
       "      <td>78</td>\n",
       "      <td>67.0</td>\n",
       "      <td>5.80</td>\n",
       "      <td>0</td>\n",
       "      <td>0</td>\n",
       "      <td>54</td>\n",
       "    </tr>\n",
       "  </tbody>\n",
       "</table>\n",
       "</div>"
      ],
      "text/plain": [
       "   TENTH  TWELTH  CGPA  PLACED  PCOUNT  AMCAT\n",
       "0     95    55.0  7.60       0       0     67\n",
       "1     98    93.2  8.50       1       1     76\n",
       "2     87    81.0  9.01       1       2     85\n",
       "3     55    78.0  6.70       0       0     72\n",
       "4     99    94.0  8.30       1       2     69\n",
       "5     60    57.0  7.80       0       0     55\n",
       "6     77    75.0  7.50       1       1     69\n",
       "7     86    56.0  8.60       0       0     71\n",
       "8     90    83.0  8.30       1       2     75\n",
       "9     78    67.0  5.80       0       0     54"
      ]
     },
     "execution_count": 8,
     "metadata": {},
     "output_type": "execute_result"
    }
   ],
   "source": [
    "placement_copy.head(10)"
   ]
  },
  {
   "cell_type": "code",
   "execution_count": 9,
   "id": "2dfcc74f",
   "metadata": {},
   "outputs": [
    {
     "data": {
      "text/plain": [
       "TENTH       int64\n",
       "TWELTH    float64\n",
       "CGPA      float64\n",
       "PLACED      int32\n",
       "PCOUNT      int64\n",
       "AMCAT       int64\n",
       "dtype: object"
      ]
     },
     "execution_count": 9,
     "metadata": {},
     "output_type": "execute_result"
    }
   ],
   "source": [
    "placement_copy.dtypes"
   ]
  },
  {
   "cell_type": "code",
   "execution_count": 10,
   "id": "2079dc66",
   "metadata": {},
   "outputs": [
    {
     "data": {
      "text/plain": [
       "TENTH     0\n",
       "TWELTH    0\n",
       "CGPA      0\n",
       "PLACED    0\n",
       "PCOUNT    0\n",
       "AMCAT     0\n",
       "dtype: int64"
      ]
     },
     "execution_count": 10,
     "metadata": {},
     "output_type": "execute_result"
    }
   ],
   "source": [
    "placement_copy.isnull().sum()"
   ]
  },
  {
   "cell_type": "code",
   "execution_count": 11,
   "id": "ff7a11ab",
   "metadata": {},
   "outputs": [
    {
     "data": {
      "text/plain": [
       "(1094, 6)"
      ]
     },
     "execution_count": 11,
     "metadata": {},
     "output_type": "execute_result"
    }
   ],
   "source": [
    "placement_copy.shape"
   ]
  },
  {
   "cell_type": "code",
   "execution_count": 12,
   "id": "0e4278d4",
   "metadata": {},
   "outputs": [
    {
     "data": {
      "text/plain": [
       "Text(0.5, 1.0, 'Skill level')"
      ]
     },
     "execution_count": 12,
     "metadata": {},
     "output_type": "execute_result"
    },
    {
     "data": {
      "image/png": "[encoded data removed]",
      "text/plain": [
       "<Figure size 1080x720 with 4 Axes>"
      ]
     },
     "metadata": {
      "needs_background": "light"
     },
     "output_type": "display_data"
    }
   ],
   "source": [
    "plt.figure(figsize = (15, 10))\n",
    "\n",
    "ax = plt.subplot(221)\n",
    "plt.boxplot(placement_copy['TENTH'])\n",
    "ax.set_title('Secondary School Percentage')\n",
    "\n",
    "ax = plt.subplot(222)\n",
    "plt.boxplot(placement_copy['TWELTH'])\n",
    "ax.set_title('Higher Secondary Percentage')\n",
    "\n",
    "ax = plt.subplot(223)\n",
    "plt.boxplot(placement_copy['CGPA'])\n",
    "ax.set_title('UG Percentage')\n",
    "\n",
    "ax = plt.subplot(224)\n",
    "plt.boxplot(placement_copy['AMCAT'])\n",
    "ax.set_title('Skill level')"
   ]
  },
  {
   "cell_type": "code",
   "execution_count": 13,
   "id": "bf9c3154",
   "metadata": {},
   "outputs": [],
   "source": [
    "Q1 = placement_copy['CGPA'].quantile(0.25)\n",
    "Q3 = placement_copy['CGPA'].quantile(0.75)\n",
    "IQR = Q3 - Q1\n",
    "\n",
    "filter = (placement_copy['CGPA'] >=Q1 - 1.5 * IQR) & (placement_copy['CGPA']<= Q3 + 1.5*IQR)\n",
    "placement_filtered = placement_copy.loc[filter]"
   ]
  },
  {
   "cell_type": "code",
   "execution_count": 14,
   "id": "b5d1d56c",
   "metadata": {},
   "outputs": [],
   "source": [
    "Q1 = placement_copy['AMCAT'].quantile(0.25)\n",
    "Q3 = placement_copy['AMCAT'].quantile(0.75)\n",
    "IQR = Q3 - Q1\n",
    "\n",
    "filter = (placement_copy['AMCAT'] >=Q1 - 1.5 * IQR) & (placement_copy['AMCAT']<= Q3 + 1.5*IQR)\n",
    "placement_filtered = placement_copy.loc[filter]"
   ]
  },
  {
   "cell_type": "code",
   "execution_count": 15,
   "id": "61e76223",
   "metadata": {},
   "outputs": [
    {
     "data": {
      "text/plain": [
       "{'whiskers': [<matplotlib.lines.Line2D at 0x25b3f9ed630>,\n",
       "  <matplotlib.lines.Line2D at 0x25b3f9ed900>],\n",
       " 'caps': [<matplotlib.lines.Line2D at 0x25b3f9edbd0>,\n",
       "  <matplotlib.lines.Line2D at 0x25b3f9edea0>],\n",
       " 'boxes': [<matplotlib.lines.Line2D at 0x25b3f9ed360>],\n",
       " 'medians': [<matplotlib.lines.Line2D at 0x25b3f9ee170>],\n",
       " 'fliers': [<matplotlib.lines.Line2D at 0x25b3f9ee440>],\n",
       " 'means': []}"
      ]
     },
     "execution_count": 15,
     "metadata": {},
     "output_type": "execute_result"
    },
    {
     "data": {
      "image/png": "[encoded data removed]",
      "text/plain": [
       "<Figure size 432x288 with 1 Axes>"
      ]
     },
     "metadata": {
      "needs_background": "light"
     },
     "output_type": "display_data"
    }
   ],
   "source": [
    "plt.boxplot(placement_filtered['CGPA'])\n"
   ]
  },
  {
   "cell_type": "code",
   "execution_count": 16,
   "id": "3050bd4a",
   "metadata": {},
   "outputs": [
    {
     "data": {
      "text/plain": [
       "{'whiskers': [<matplotlib.lines.Line2D at 0x25b3fa6c670>,\n",
       "  <matplotlib.lines.Line2D at 0x25b3fa6c940>],\n",
       " 'caps': [<matplotlib.lines.Line2D at 0x25b3fa6cc10>,\n",
       "  <matplotlib.lines.Line2D at 0x25b3fa6cee0>],\n",
       " 'boxes': [<matplotlib.lines.Line2D at 0x25b3fa6c3d0>],\n",
       " 'medians': [<matplotlib.lines.Line2D at 0x25b3fa6d1b0>],\n",
       " 'fliers': [<matplotlib.lines.Line2D at 0x25b3fa6d480>],\n",
       " 'means': []}"
      ]
     },
     "execution_count": 16,
     "metadata": {},
     "output_type": "execute_result"
    },
    {
     "data": {
      "image/png": "[encoded data removed]",
      "text/plain": [
       "<Figure size 432x288 with 1 Axes>"
      ]
     },
     "metadata": {
      "needs_background": "light"
     },
     "output_type": "display_data"
    }
   ],
   "source": [
    "plt.boxplot(placement_filtered['AMCAT'])\n"
   ]
  },
  {
   "cell_type": "code",
   "execution_count": 17,
   "id": "95625b1f",
   "metadata": {},
   "outputs": [],
   "source": [
    "Q1_ = placement_copy['CGPA'].quantile(0.25)\n",
    "Q3_ = placement_copy['CGPA'].quantile(0.75)\n",
    "IQR = Q3_ - Q1_\n",
    "\n",
    "filter = (placement_copy['CGPA'] >=Q1_ - 1.5 * IQR) & (placement_copy['CGPA']<= Q3_ + 1.5*IQR)\n",
    "placement_filtered = placement_copy.loc[filter]"
   ]
  },
  {
   "cell_type": "code",
   "execution_count": 18,
   "id": "f422da84",
   "metadata": {},
   "outputs": [
    {
     "data": {
      "text/plain": [
       "{'whiskers': [<matplotlib.lines.Line2D at 0x25b3f282cb0>,\n",
       "  <matplotlib.lines.Line2D at 0x25b3f282f80>],\n",
       " 'caps': [<matplotlib.lines.Line2D at 0x25b3f283250>,\n",
       "  <matplotlib.lines.Line2D at 0x25b3f283520>],\n",
       " 'boxes': [<matplotlib.lines.Line2D at 0x25b3f2829e0>],\n",
       " 'medians': [<matplotlib.lines.Line2D at 0x25b3f2837f0>],\n",
       " 'fliers': [<matplotlib.lines.Line2D at 0x25b3f283ac0>],\n",
       " 'means': []}"
      ]
     },
     "execution_count": 18,
     "metadata": {},
     "output_type": "execute_result"
    },
    {
     "data": {
      "image/png": "[encoded data removed]",
      "text/plain": [
       "<Figure size 432x288 with 1 Axes>"
      ]
     },
     "metadata": {
      "needs_background": "light"
     },
     "output_type": "display_data"
    }
   ],
   "source": [
    "plt.boxplot(placement_filtered['CGPA'])\n"
   ]
  },
  {
   "cell_type": "code",
   "execution_count": 19,
   "id": "81adfe0a",
   "metadata": {},
   "outputs": [],
   "source": [
    "X = placement_copy.drop(['PLACED'], axis =1)\n",
    "y = placement_copy.PLACED"
   ]
  },
  {
   "cell_type": "code",
   "execution_count": 20,
   "id": "daaba47f",
   "metadata": {},
   "outputs": [],
   "source": [
    "from sklearn.model_selection import train_test_split\n",
    "X_train, X_test, y_train, y_test = train_test_split(X, y, train_size = 0.8, random_state = 4)"
   ]
  },
  {
   "cell_type": "code",
   "execution_count": 21,
   "id": "eb8fd198",
   "metadata": {},
   "outputs": [
    {
     "name": "stdout",
     "output_type": "stream",
     "text": [
      "Accuracy =  0.8036529680365296\n"
     ]
    }
   ],
   "source": [
    "#Logistic Regression\n",
    "\n",
    "from sklearn.linear_model import LogisticRegression\n",
    "from sklearn import metrics\n",
    "logreg = LogisticRegression()\n",
    "\n",
    "logreg.fit(X_train, y_train)\n",
    "y_pred = logreg.predict(X_test)\n",
    "print(\"Accuracy = \" ,logreg.score(X_test, y_test))"
   ]
  },
  {
   "cell_type": "code",
   "execution_count": 22,
   "id": "aea7cd2d",
   "metadata": {},
   "outputs": [
    {
     "name": "stdout",
     "output_type": "stream",
     "text": [
      "Accuracy =  0.8995433789954338\n"
     ]
    }
   ],
   "source": [
    "#Decision Tree\n",
    "from sklearn.tree import DecisionTreeClassifier\n",
    "dt = DecisionTreeClassifier(criterion = 'gini', max_depth = 3)\n",
    "dt = dt.fit(X_train, y_train)\n",
    "y_pred = dt.predict(X_test)\n",
    "print(\"Accuracy = \", metrics.accuracy_score(y_test, y_pred))"
   ]
  },
  {
   "cell_type": "code",
   "execution_count": 23,
   "id": "e6c977a1",
   "metadata": {},
   "outputs": [
    {
     "name": "stdout",
     "output_type": "stream",
     "text": [
      "Accuracy=  1.0\n"
     ]
    }
   ],
   "source": [
    "#Random Forest\n",
    "from sklearn.ensemble import RandomForestClassifier\n",
    "\n",
    "rt = RandomForestClassifier(n_estimators = 100)\n",
    "\n",
    "rt.fit(X_train, y_train)\n",
    "y_pred = rt.predict(X_test)\n",
    "\n",
    "print(\"Accuracy= \", metrics.accuracy_score(y_test, y_pred))\n"
   ]
  },
  {
   "cell_type": "code",
   "execution_count": 24,
   "id": "fd20cefe",
   "metadata": {},
   "outputs": [],
   "source": [
    "#input trial\n",
    "input= np.array([86,56.0,8.60,0,71])"
   ]
  },
  {
   "cell_type": "code",
   "execution_count": 25,
   "id": "aa99d359",
   "metadata": {},
   "outputs": [],
   "source": [
    "inp=input.reshape(1, -1)"
   ]
  },
  {
   "cell_type": "code",
   "execution_count": 26,
   "id": "1604054d",
   "metadata": {},
   "outputs": [
    {
     "name": "stdout",
     "output_type": "stream",
     "text": [
      "Predicted Placement: Not Placed \n"
     ]
    },
    {
     "name": "stderr",
     "output_type": "stream",
     "text": [
      "A:\\CS\\Python\\lib\\site-packages\\sklearn\\base.py:450: UserWarning: X does not have valid feature names, but RandomForestClassifier was fitted with feature names\n",
      "  warnings.warn(\n"
     ]
    }
   ],
   "source": [
    "x=rt.predict(inp)\n",
    "if x==[0]:\n",
    "    print(\"Predicted Placement: Not Placed \")\n",
    "else:\n",
    "    print(\"Predicted Placement: Placed\")"
   ]
  },
  {
   "cell_type": "code",
   "execution_count": 27,
   "id": "c499acf0",
   "metadata": {},
   "outputs": [],
   "source": [
    "input= np.array([78,74,9,2,80])"
   ]
  },
  {
   "cell_type": "code",
   "execution_count": 28,
   "id": "20e72d06",
   "metadata": {},
   "outputs": [],
   "source": [
    "inp=input.reshape(1, -1)"
   ]
  },
  {
   "cell_type": "code",
   "execution_count": 29,
   "id": "60ef3247",
   "metadata": {},
   "outputs": [
    {
     "name": "stdout",
     "output_type": "stream",
     "text": [
      "Predicted Placement: Placed\n"
     ]
    },
    {
     "name": "stderr",
     "output_type": "stream",
     "text": [
      "A:\\CS\\Python\\lib\\site-packages\\sklearn\\base.py:450: UserWarning: X does not have valid feature names, but RandomForestClassifier was fitted with feature names\n",
      "  warnings.warn(\n"
     ]
    }
   ],
   "source": [
    "x=rt.predict(inp)\n",
    "if x==[0]:\n",
    "    print(\"Predicted Placement: Not Placed \")\n",
    "else:\n",
    "    print(\"Predicted Placement: Placed\")"
   ]
  },
  {
   "cell_type": "code",
   "execution_count": 30,
   "id": "c02115bb",
   "metadata": {},
   "outputs": [
    {
     "data": {
      "text/plain": [
       "<function _pickle.dump(obj, file, protocol=None, *, fix_imports=True, buffer_callback=None)>"
      ]
     },
     "execution_count": 30,
     "metadata": {},
     "output_type": "execute_result"
    }
   ],
   "source": [
    "pickle.dump"
   ]
  }
 ],
 "metadata": {
  "kernelspec": {
   "display_name": "Python 3 (ipykernel)",
   "language": "python",
   "name": "python3"
  },
  "language_info": {
   "codemirror_mode": {
    "name": "ipython",
    "version": 3
   },
   "file_extension": ".py",
   "mimetype": "text/x-python",
   "name": "python",
   "nbconvert_exporter": "python",
   "pygments_lexer": "ipython3",
   "version": "3.10.0"
  }
 },
 "nbformat": 4,
 "nbformat_minor": 5
}
